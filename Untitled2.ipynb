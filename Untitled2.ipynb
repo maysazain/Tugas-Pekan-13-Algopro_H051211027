{
  "nbformat": 4,
  "nbformat_minor": 0,
  "metadata": {
    "colab": {
      "name": "Untitled2.ipynb",
      "provenance": [],
      "authorship_tag": "ABX9TyMY9gJj8aLyX28DvOncXBCQ",
      "include_colab_link": true
    },
    "kernelspec": {
      "name": "python3",
      "display_name": "Python 3"
    },
    "language_info": {
      "name": "python"
    }
  },
  "cells": [
    {
      "cell_type": "markdown",
      "metadata": {
        "id": "view-in-github",
        "colab_type": "text"
      },
      "source": [
        "<a href=\"https://colab.research.google.com/github/maysazain/Tugas-Pekan-13-Algopro_H051211027/blob/main/Untitled2.ipynb\" target=\"_parent\"><img src=\"https://colab.research.google.com/assets/colab-badge.svg\" alt=\"Open In Colab\"/></a>"
      ]
    },
    {
      "cell_type": "markdown",
      "source": [
        "NOMOR 1\n",
        "\n",
        "Buatlah program untuk menghitung penjumlahan 2 buah matriks!\n",
        "\n"
      ],
      "metadata": {
        "id": "LtxwYREWkeF3"
      }
    },
    {
      "cell_type": "code",
      "execution_count": 1,
      "metadata": {
        "colab": {
          "base_uri": "https://localhost:8080/"
        },
        "id": "U8pce3Enhx4g",
        "outputId": "d89cc040-eb88-403a-cd01-b1f9c172e900"
      },
      "outputs": [
        {
          "output_type": "stream",
          "name": "stdout",
          "text": [
            "7 0 \n",
            "8 4 \n"
          ]
        }
      ],
      "source": [
        "bio1 = [\n",
        "        [6, 0],\n",
        "        [4, 2],\n",
        "]\n",
        "\n",
        "bio2 = [\n",
        "        [1, 0],\n",
        "        [4, 2],\n",
        "]\n",
        "\n",
        "\n",
        "for A in range(0, len(bio1)):\n",
        "    for B in range(0, len(bio1[0])):\n",
        "        print (bio1[A][B] + bio2[A][B], end=' '),\n",
        "    print('')"
      ]
    },
    {
      "cell_type": "markdown",
      "source": [
        "NOMOR 2\n",
        "\n",
        "Buatlah program untuk menghitung total pembelian N buah barang dengan harga dan jumlah tertentu."
      ],
      "metadata": {
        "id": "QrQTBzOJk4Fy"
      }
    },
    {
      "cell_type": "code",
      "source": [
        "JumlahBrg = int(input('Jumlah Barang : '))\n",
        "for A in range (JumlahBrg) :\n",
        "  print('Barang ke-',A+1)\n",
        "  HargaBrg = int(input('Harga Barang : '))\n",
        "  totalharga=0\n",
        "for B in range(HargaBrg) :\n",
        "  totalharga =0\n",
        "TotalHarga=JumlahBrg*HargaBrg\n",
        "print('Total Pembelian  : ',TotalHarga)"
      ],
      "metadata": {
        "colab": {
          "base_uri": "https://localhost:8080/"
        },
        "id": "-BvYOP23k3mS",
        "outputId": "3dc2041a-f9f3-4226-bc47-b2a8e2c20640"
      },
      "execution_count": 6,
      "outputs": [
        {
          "output_type": "stream",
          "name": "stdout",
          "text": [
            "Jumlah Barang : 3\n",
            "Barang ke- 1\n",
            "Harga Barang : 30000\n",
            "Barang ke- 2\n",
            "Harga Barang : 50000\n",
            "Barang ke- 3\n",
            "Harga Barang : 70000\n",
            "Total Pembelian  :  210000\n"
          ]
        }
      ]
    },
    {
      "cell_type": "markdown",
      "source": [
        "NOMOR 3\n",
        "\n",
        "Buatlah program untuk menghitung banyaknya bilangan genap ataupun bilangan ganjil dari N buah bilangan yang diinput secara acak"
      ],
      "metadata": {
        "id": "j66cpkjmmCNk"
      }
    },
    {
      "cell_type": "code",
      "source": [
        "nilaiawal = int(input('Input Nilai Awal : '))\n",
        "nilaiakhir = int(input('Input Nilai Akhir : '))\n",
        "for A in range(nilaiawal,nilaiakhir+1):\n",
        "  if A %2 == 0:\n",
        "    print (A, 'adalah jenis Bilangan Genap')\n",
        "  else :\n",
        "    print (A, 'adalah jenis Bilangan Ganji')"
      ],
      "metadata": {
        "colab": {
          "base_uri": "https://localhost:8080/"
        },
        "id": "piFvc75OmByb",
        "outputId": "c67473b4-b33b-4b40-d17f-a150a2ece15b"
      },
      "execution_count": 8,
      "outputs": [
        {
          "output_type": "stream",
          "name": "stdout",
          "text": [
            "Input Nilai Awal : 89\n",
            "Input Nilai Akhir : 90\n",
            "89 adalah jenis Bilangan Ganji\n",
            "90 adalah jenis Bilangan Genap\n"
          ]
        }
      ]
    },
    {
      "cell_type": "markdown",
      "source": [
        "NOMOR 4\n",
        "\n",
        "Buatlah program untuk menampilkan bilangan kelipatan 3 diantara bilangan tertentu\n"
      ],
      "metadata": {
        "id": "ww4C3bakmeSs"
      }
    },
    {
      "cell_type": "code",
      "source": [
        "s = ''\n",
        "i = 0\n",
        "while (i<36):\n",
        "  s += str(i)+' '\n",
        "  i += 3\n",
        "print(s)"
      ],
      "metadata": {
        "colab": {
          "base_uri": "https://localhost:8080/"
        },
        "id": "40C5vJxJnONT",
        "outputId": "06886957-5ca1-4b3d-a20a-93f2aee0778a"
      },
      "execution_count": 10,
      "outputs": [
        {
          "output_type": "stream",
          "name": "stdout",
          "text": [
            "0 3 6 9 12 15 18 21 24 27 30 33 \n"
          ]
        }
      ]
    },
    {
      "cell_type": "markdown",
      "source": [
        "NOMOR 5\n",
        "\n",
        "Buatlah program untuk menampilkan bentuk bilangan seperti berikut ini:\n",
        "bilangan : <input suatu bilangan (misal:5)>\n",
        "1\n",
        "12\n",
        "123\n",
        "1234\n",
        "12345"
      ],
      "metadata": {
        "id": "mB0JONx7nYJE"
      }
    },
    {
      "cell_type": "code",
      "source": [
        "s = ''\n",
        "for i in range (1,6) :\n",
        "  s += str(i)+' '\n",
        "  print (s)"
      ],
      "metadata": {
        "colab": {
          "base_uri": "https://localhost:8080/"
        },
        "id": "609j8X9-3Trv",
        "outputId": "ce6e6a3d-be6f-4581-b1f6-7e515d13b04e"
      },
      "execution_count": 11,
      "outputs": [
        {
          "output_type": "stream",
          "name": "stdout",
          "text": [
            "1 \n",
            "1 2 \n",
            "1 2 3 \n",
            "1 2 3 4 \n",
            "1 2 3 4 5 \n"
          ]
        }
      ]
    },
    {
      "cell_type": "markdown",
      "source": [
        "NOMOR 6\n",
        "\n",
        "Buatlah program untuk menghitung dan menampilkan bentuk berikut ini: \n",
        "No. Nama Mhs N.Tugas N.Kuis N.UTS N.UAS NilaiAKhir\n",
        "\n"
      ],
      "metadata": {
        "id": "n1teqOJj4l6i"
      }
    },
    {
      "cell_type": "code",
      "source": [
        "print(\"=====================================================================================\")\n",
        "print(\"                           PROGRAM PENGINPUTAN NILAI\") \n",
        "print(\"=====================================================================================\")\n",
        "data = []\n",
        "while True:\n",
        "    print(\"\\nApa yang ingin dilakukan?\")\n",
        "    print(\"1. Tambah data\")\n",
        "    print(\"2. Tampilkan data\")\n",
        "    print(\"3. Exit\")\n",
        "    pilihan = int(input(\"Pilihan: \"))\n",
        "    if pilihan == 1:\n",
        "        print (\"\\nmasukkan data dengan urutan dan format sebagai berikut :\")\n",
        "        print (\"-nama panjang mhs, N.Tugas, N.Kuis, N.UTS, N.UAS-\\n\")\n",
        "        print (\"*****\")\n",
        "        print (\"Bobot nilai :\\n N.Tugas(30%) \\n N.Kuis(20%) \\n N.UTS(25%) \\n N.UAS(25%) \")\n",
        "        print (\"*****\")\n",
        "        datamhs = input(\"Masukkan data: \\n\")\n",
        "        datamhs = datamhs.split(\",\")\n",
        "        data.append(datamhs)\n",
        "    elif pilihan == 2:\n",
        "        print(\"---------------------------------------------------------------------------------------\")\n",
        "        print(\"No.      Nama Mhs            N.Tugas    N.Kuis    N.UTS    N.UAS    NilaiAkhir\")\n",
        "        print(\"---------------------------------------------------------------------------------------\")\n",
        "        count=0        \n",
        "        for i in (data):\n",
        "            count+=1\n",
        "            NilaiAkhir = (((int(i[1]))*30 + int(i[2])*20 + (int(i[3]))*25 + int(i[4])*25))/100\n",
        "            print (str(count)+\".   \", \"       \".join(i),\"   \", NilaiAkhir)\n",
        "            print ()\n",
        "            print (\"*Data yang ditampilkan sesuai urutan\")\n",
        "    elif pilihan == 3:\n",
        "        print(\"\\nTERIMA KASIH!\")\n",
        "    else :\n",
        "        print (\"-Pilihan Tidak Valid-\")\n",
        "    "
      ],
      "metadata": {
        "colab": {
          "base_uri": "https://localhost:8080/"
        },
        "id": "V8RnPO1UmhME",
        "outputId": "5cc2bb49-e8b5-4c08-a462-d0a3c9a2c337"
      },
      "execution_count": null,
      "outputs": [
        {
          "output_type": "stream",
          "name": "stdout",
          "text": [
            "=====================================================================================\n",
            "                           PROGRAM PENGINPUTAN NILAI\n",
            "=====================================================================================\n",
            "\n",
            "Apa yang ingin dilakukan?\n",
            "1. Tambah data\n",
            "2. Tampilkan data\n",
            "3. Exit\n",
            "Pilihan: 1\n",
            "\n",
            "masukkan data dengan urutan dan format sebagai berikut :\n",
            "-nama panjang mhs, N.Tugas, N.Kuis, N.UTS, N.UAS-\n",
            "\n",
            "*****\n",
            "Bobot nilai :\n",
            " N.Tugas(30%) \n",
            " N.Kuis(20%) \n",
            " N.UTS(25%) \n",
            " N.UAS(25%) \n",
            "*****\n",
            "Masukkan data: \n",
            "2\n",
            "\n",
            "Apa yang ingin dilakukan?\n",
            "1. Tambah data\n",
            "2. Tampilkan data\n",
            "3. Exit\n",
            "Pilihan: 3\n",
            "\n",
            "TERIMA KASIH!\n",
            "\n",
            "Apa yang ingin dilakukan?\n",
            "1. Tambah data\n",
            "2. Tampilkan data\n",
            "3. Exit\n"
          ]
        }
      ]
    }
  ]
}